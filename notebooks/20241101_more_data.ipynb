{
 "cells": [
  {
   "cell_type": "code",
   "execution_count": 1,
   "metadata": {},
   "outputs": [],
   "source": [
    "from pathlib import Path\n",
    "import json\n",
    "\n",
    "path_to_data = Path.cwd().parent / \"data\""
   ]
  },
  {
   "cell_type": "markdown",
   "metadata": {},
   "source": [
    "# Bach chorales"
   ]
  },
  {
   "cell_type": "code",
   "execution_count": 3,
   "metadata": {},
   "outputs": [],
   "source": [
    "def read_bach_chorales(\n",
    "    path, return_split=True\n",
    ") -> dict[str, list[list[list[int]]]] | list[list[int]]:\n",
    "    \"\"\"Read Bach chorales dataset\n",
    "\n",
    "    Args:\n",
    "        path: path to jsb-chorales-16th.json\n",
    "        return_split: Return. Defaults to True.\n",
    "\n",
    "    Returns:\n",
    "        If return split is True:\n",
    "            dict with \"train\", \"valid\", \"test\", each a list of songs.\n",
    "        else:\n",
    "            list of songs (\"train\", \"valid\", \"test\" combined)\n",
    "    \"\"\"\n",
    "    with open(path) as f:\n",
    "        data: dict[str, list[list]] = json.load(f)\n",
    "    if return_split:\n",
    "        return data\n",
    "    else:\n",
    "        return [beat for song in data.values() for beat in song]\n",
    "\n",
    "\n",
    "def make_monophonic(\n",
    "    song: list[list[int | str]],\n",
    "    num_voices=4,\n",
    "    end_token: str = None,\n",
    "    rest_token: str = None,\n",
    ") -> list[int | str]:\n",
    "    \"\"\"Flatten a multi-voice song into one note sequence\n",
    "\n",
    "    Essentially a np.reshape, but with handling of different-sized elements.\n",
    "\n",
    "    Args:\n",
    "        song: A song as a list of beats, each a list of up to `num_voices` notes (int or str)\n",
    "        num_voices: Number of voices. Defaults to 4.\n",
    "        end_token: If not None, `end_token` is appended at the end of each voice. Defaults to None.\n",
    "        rest_token: If not None, `rest_token` is appended whenever a voice is missing (i.e. when len(beat) < num_voices). Defaults to None.\n",
    "\n",
    "    Returns:\n",
    "        list of notes\n",
    "    \"\"\"\n",
    "    mono = []\n",
    "    for i in range(num_voices):\n",
    "        for beat in song:\n",
    "            try:\n",
    "                mono.append(beat[i])\n",
    "            except IndexError:\n",
    "                if rest_token is not None:\n",
    "                    mono.append(rest_token)\n",
    "        if end_token is not None:\n",
    "            mono.append(end_token)\n",
    "    return mono\n",
    "\n",
    "\n",
    "bach = read_bach_chorales(path_to_data / \"jsb-chorales-16th.json\")"
   ]
  },
  {
   "cell_type": "markdown",
   "metadata": {},
   "source": [
    "Bach \n",
    "\n",
    "- contains `train`, `valid`, `test`\n",
    "- each contains chorales, which are lists of beats\n",
    "- each beat is a list of notes (one for each of 4 voices)\n",
    "    - I expected each beat to always be a list of 4, but it can be anything from 0 to 4"
   ]
  },
  {
   "cell_type": "code",
   "execution_count": 4,
   "metadata": {},
   "outputs": [
    {
     "data": {
      "text/plain": [
       "['test: 77', 'train: 229', 'valid: 76']"
      ]
     },
     "execution_count": 4,
     "metadata": {},
     "output_type": "execute_result"
    }
   ],
   "source": [
    "[f\"{k}: {len(v)}\" for k, v in bach.items()]"
   ]
  },
  {
   "cell_type": "code",
   "execution_count": 5,
   "metadata": {},
   "outputs": [
    {
     "data": {
      "text/plain": [
       "[('Beat length = 4', 55097),\n",
       " ('Beat length = 0', 72),\n",
       " ('Beat length = 1', 24),\n",
       " ('Beat length = 3', 19),\n",
       " ('Beat length = 2', 16)]"
      ]
     },
     "execution_count": 5,
     "metadata": {},
     "output_type": "execute_result"
    }
   ],
   "source": [
    "from collections import Counter\n",
    "\n",
    "bach_tr = bach[\"train\"]\n",
    "\n",
    "Counter(\n",
    "    [f\"Beat length = {len(beat)}\" for song in bach_tr for beat in song]\n",
    ").most_common()"
   ]
  },
  {
   "cell_type": "markdown",
   "metadata": {},
   "source": [
    "For a monophonic version, each voice will be a separate melody."
   ]
  },
  {
   "cell_type": "code",
   "execution_count": 21,
   "metadata": {},
   "outputs": [
    {
     "name": "stdout",
     "output_type": "stream",
     "text": [
      "[[74, 70, 65, 58], [74, 72], [74, 70, 65, 58]]\n",
      "[74, 74, 74, 70, 72, 70, 65, 65, 58, 58]\n",
      "[74, 74, 74, '|', 70, 72, 70, '|', 65, '.', 65, '|', 58, '.', 58, '|']\n"
     ]
    }
   ],
   "source": [
    "song = bach_tr[0][:3]\n",
    "song[1] = [74, 72]\n",
    "print(song)\n",
    "print(make_monophonic(song))\n",
    "print(make_monophonic(song, end_token=\"|\", rest_token=\".\"))"
   ]
  },
  {
   "cell_type": "code",
   "execution_count": null,
   "metadata": {},
   "outputs": [],
   "source": [
    "bach_tr_mono = [\n",
    "    make_monophonic(song, end_token=\"|\", rest_token=\".\") for song in bach_tr\n",
    "]"
   ]
  },
  {
   "cell_type": "code",
   "execution_count": null,
   "metadata": {},
   "outputs": [],
   "source": [
    "bachs = read_bach_chorales(path_to_data / \"jsb-chorales-16th.json\", return_split=False)\n",
    "bachs = [\n",
    "    make_monophonic(song, num_voices=4, end_token=\"|\", rest_token=\".\") for song in bachs\n",
    "]"
   ]
  },
  {
   "cell_type": "code",
   "execution_count": 48,
   "metadata": {},
   "outputs": [],
   "source": [
    "bach_str = \" \".join([str(beat) for song in bachs for beat in song])"
   ]
  },
  {
   "cell_type": "code",
   "execution_count": 63,
   "metadata": {},
   "outputs": [],
   "source": [
    "def process_bach(path_to_raw, rest_token=\".\", end_token=\"|\"):\n",
    "    bachs = read_bach_chorales(path_to_raw, return_split=False)\n",
    "    bachs = [\n",
    "        make_monophonic(song, num_voices=4, end_token=end_token, rest_token=rest_token)\n",
    "        for song in bachs\n",
    "    ]\n",
    "    return bachs\n",
    "\n",
    "\n",
    "# process_bach(path_to_data / \"jsb-chorales-16th.json\")[:4]"
   ]
  },
  {
   "cell_type": "code",
   "execution_count": 11,
   "metadata": {},
   "outputs": [
    {
     "data": {
      "text/plain": [
       "{36,\n",
       " 37,\n",
       " 38,\n",
       " 39,\n",
       " 40,\n",
       " 41,\n",
       " 42,\n",
       " 43,\n",
       " 44,\n",
       " 45,\n",
       " 46,\n",
       " 47,\n",
       " 48,\n",
       " 49,\n",
       " 50,\n",
       " 51,\n",
       " 52,\n",
       " 53,\n",
       " 54,\n",
       " 55,\n",
       " 56,\n",
       " 57,\n",
       " 58,\n",
       " 59,\n",
       " 60,\n",
       " 61,\n",
       " 62,\n",
       " 63,\n",
       " 64,\n",
       " 65,\n",
       " 66,\n",
       " 67,\n",
       " 68,\n",
       " 69,\n",
       " 70,\n",
       " 71,\n",
       " 72,\n",
       " 73,\n",
       " 74,\n",
       " 75,\n",
       " 76,\n",
       " 77,\n",
       " 78,\n",
       " 79,\n",
       " 80,\n",
       " 81}"
      ]
     },
     "execution_count": 11,
     "metadata": {},
     "output_type": "execute_result"
    }
   ],
   "source": [
    "from collections import Counter\n",
    "\n",
    "set([note for song in bach[\"train\"] for beat in song for note in beat])"
   ]
  }
 ],
 "metadata": {
  "kernelspec": {
   "display_name": ".venv",
   "language": "python",
   "name": "python3"
  },
  "language_info": {
   "codemirror_mode": {
    "name": "ipython",
    "version": 3
   },
   "file_extension": ".py",
   "mimetype": "text/x-python",
   "name": "python",
   "nbconvert_exporter": "python",
   "pygments_lexer": "ipython3",
   "version": "3.10.10"
  }
 },
 "nbformat": 4,
 "nbformat_minor": 2
}
