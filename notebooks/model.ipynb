{
 "cells": [
  {
   "cell_type": "markdown",
   "metadata": {},
   "source": [
    "References:\n",
    "\n",
    "- https://pytorch.org/tutorials/beginner/nlp/sequence_models_tutorial.html\n",
    "- https://www.tensorflow.org/tutorials/audio/music_generation"
   ]
  },
  {
   "cell_type": "code",
   "execution_count": 137,
   "metadata": {},
   "outputs": [],
   "source": [
    "import torch\n",
    "import torch.nn as nn\n",
    "from pathlib import Path\n",
    "import csv\n",
    "from fractions import Fraction\n",
    "\n",
    "\n",
    "class MelodyLSTM(nn.Module):\n",
    "    def __init__(self, input_size, hidden_size, output_size):\n",
    "        super().__init__()\n",
    "        self.input_size = input_size\n",
    "        self.hidden_size = hidden_size\n",
    "        self.output_size = output_size\n",
    "        self.num_layers = 1\n",
    "\n",
    "        # (seq_len, input_size) -> (seq_len, hidden_size)\n",
    "        self.lstm = nn.LSTM(input_size, hidden_size)\n",
    "        # (seq_len, hidden_size) -> (seq_len, output_size)\n",
    "        self.fc = nn.Linear(hidden_size, output_size)\n",
    "        # Uses `seq_len * hidden_size` features to predict `output_size` targets.\n",
    "\n",
    "    def forward(self, x):\n",
    "        \"\"\"Forward pass\n",
    "\n",
    "        Args:\n",
    "            x: torch tensor of shape (seq_len, input_size)\n",
    "\n",
    "        Returns:\n",
    "            torch tensor of shape (seq_len, output_size)\n",
    "        \"\"\"\n",
    "        # lstm's default h0 (hidden state) and c0 (cell state) are zeroes.\n",
    "        lstm_out, _ = self.lstm(x)\n",
    "        out = self.fc(lstm_out.view(len(x), -1))\n",
    "        return out  # TODO pass through log_softmax?\n",
    "\n",
    "\n",
    "def train_model(\n",
    "    model: MelodyLSTM, train_loader, loss_fn, optimizer, num_epochs=10, progress=True\n",
    "):\n",
    "    model.train()\n",
    "    i = 0\n",
    "    for epoch in range(num_epochs):\n",
    "        if progress:\n",
    "            print(f\"Epoch {epoch}\")\n",
    "        for inputs, target in train_loader:\n",
    "            # TODO Cant do multiple epochs with a generator. Use custom torch Dataset. Not sure how to make it return pieces of a file with each __get__item.\n",
    "            if progress and (i % 100) == 0:\n",
    "                print(f\"i={i}\")\n",
    "\n",
    "            model.zero_grad()\n",
    "\n",
    "            inputs = scale_pitch(torch.tensor(inputs, dtype=torch.float32))\n",
    "            target = scale_pitch(torch.tensor(target, dtype=torch.float32))\n",
    "\n",
    "            output = model(inputs)\n",
    "            loss = loss_fn(output[-1], target)\n",
    "            loss.backward()\n",
    "            optimizer.step()\n",
    "            i = i + 1\n",
    "    return model\n",
    "\n",
    "\n",
    "def scale_pitch(x, pitch_range=128):\n",
    "    return x / torch.tensor([pitch_range, 1.0, 1.0])\n",
    "\n",
    "\n",
    "def make_data_loader(files: list[str | Path], read_fn: callable, sequence_length: int):\n",
    "    \"\"\"Make lazy data loader for sequence data\n",
    "\n",
    "    Args:\n",
    "        files: list of files containing sequences\n",
    "        read_fn: function that reads a file into a list\n",
    "        sequence_length: Length of input sequence to use as context.\n",
    "\n",
    "    Yields:\n",
    "        inputs: list of `sequence_length` tokens\n",
    "        output: next token to predict\n",
    "    \"\"\"\n",
    "    for file in files:\n",
    "        sequence = read_fn(file)\n",
    "        # TODO Handle case where len(sequence) < sequence length?\n",
    "        for i in range(len(sequence) - sequence_length):\n",
    "            inputs = sequence[i : i + sequence_length]\n",
    "            output = sequence[i + sequence_length]\n",
    "            yield inputs, output\n",
    "\n",
    "\n",
    "def read_time_series(file: str | Path) -> list:\n",
    "    \"\"\"Read txt file containing space-delimited sequences of pitch numbers or rest tokens or hold tokens\"\"\"\n",
    "    with open(file) as f:\n",
    "        return f.read().split(\" \")\n",
    "\n",
    "\n",
    "def read_event_sequence(file: str | Path) -> list:\n",
    "    \"\"\"Read txt file containing newline-delimited sequences of (pitch, duration, offset)\"\"\"\n",
    "    with open(file) as f:\n",
    "        data = []\n",
    "        for row in csv.reader(f):\n",
    "            pitch, duration, offset = row\n",
    "            if duration.find(\"/\"):\n",
    "                duration = Fraction(duration)\n",
    "            if offset.find(\"/\"):\n",
    "                offset = Fraction(offset)\n",
    "            data.append((int(pitch), float(duration), float(offset)))\n",
    "    return data\n",
    "\n",
    "\n",
    "INPUT_SIZE, HIDDEN_SIZE, OUTPUT_SIZE, SEQUENCE_LENGTH = 3, 64, 3, 16\n",
    "path_to_dataset_txt = Path(\"data/event_sequence\")  # 3696777 notes in 1276 files\n",
    "files = path_to_dataset_txt.glob(\"*.txt\")\n",
    "data_loader = make_data_loader(\n",
    "    files, read_event_sequence, sequence_length=SEQUENCE_LENGTH\n",
    ")"
   ]
  },
  {
   "cell_type": "code",
   "execution_count": 110,
   "metadata": {},
   "outputs": [
    {
     "data": {
      "text/plain": [
       "([(33, 0.5, 4.333333333333334),\n",
       "  (48, 0.3333333333333333, 0.0),\n",
       "  (46, 0.3333333333333333, 0.16666666666666666),\n",
       "  (46, 0.25, 1.3333333333333333),\n",
       "  (46, 0.25, 0.25),\n",
       "  (33, 0.25, 0.0),\n",
       "  (46, 0.3333333333333333, 0.0),\n",
       "  (46, 0.25, 0.5),\n",
       "  (33, 0.25, 0.0),\n",
       "  (33, 0.25, 2.1666666666666665),\n",
       "  (39, 0.25, 0.0),\n",
       "  (33, 0.25, 0.0),\n",
       "  (48, 0.25, 0.0),\n",
       "  (33, 0.3333333333333333, 0.0),\n",
       "  (51, 0.25, 0.0),\n",
       "  (57, 0.5, 0.0)],\n",
       " (46, 0.25, 0.4166666666666667))"
      ]
     },
     "execution_count": 110,
     "metadata": {},
     "output_type": "execute_result"
    }
   ],
   "source": [
    "inputs, outputs = next(data_loader)\n",
    "inputs, outputs"
   ]
  },
  {
   "cell_type": "code",
   "execution_count": 118,
   "metadata": {},
   "outputs": [
    {
     "data": {
      "text/plain": [
       "(torch.Size([16, 3]), torch.Size([3]), torch.Size([16, 3]), torch.Size([3]))"
      ]
     },
     "execution_count": 118,
     "metadata": {},
     "output_type": "execute_result"
    }
   ],
   "source": [
    "model = MelodyLSTM(\n",
    "    input_size=INPUT_SIZE, hidden_size=HIDDEN_SIZE, output_size=OUTPUT_SIZE\n",
    ")\n",
    "input_tensor = torch.tensor(inputs, dtype=torch.float32)\n",
    "output_tensor = torch.tensor(outputs, dtype=torch.float32)\n",
    "prediction = model(input_tensor)\n",
    "input_tensor.shape, output_tensor.shape, prediction.shape, prediction[-1].shape"
   ]
  },
  {
   "cell_type": "code",
   "execution_count": null,
   "metadata": {},
   "outputs": [],
   "source": [
    "from torch import optim\n",
    "\n",
    "loss_fn = nn.MSELoss()\n",
    "optimizer = optim.SGD(model.parameters(), lr=0.1)\n",
    "# loss_fn(output_tensor, model(input_tensor)[-1])\n",
    "\n",
    "model_ = train_model(\n",
    "    model=model,\n",
    "    train_loader=data_loader,\n",
    "    loss_fn=loss_fn,\n",
    "    optimizer=optimizer,\n",
    "    num_epochs=1,\n",
    ")"
   ]
  },
  {
   "cell_type": "code",
   "execution_count": 10,
   "metadata": {},
   "outputs": [
    {
     "data": {
      "text/plain": [
       "'model_2024-10-07T19:46:21_event_sequence.pkl'"
      ]
     },
     "execution_count": 10,
     "metadata": {},
     "output_type": "execute_result"
    }
   ],
   "source": [
    "from datetime import datetime\n",
    "\n",
    "dataset = \"event_sequence\"\n",
    "f\"model_{datetime.now().isoformat(timespec='seconds')}_{dataset}.pkl\""
   ]
  }
 ],
 "metadata": {
  "kernelspec": {
   "display_name": ".venv",
   "language": "python",
   "name": "python3"
  },
  "language_info": {
   "codemirror_mode": {
    "name": "ipython",
    "version": 3
   },
   "file_extension": ".py",
   "mimetype": "text/x-python",
   "name": "python",
   "nbconvert_exporter": "python",
   "pygments_lexer": "ipython3",
   "version": "3.10.10"
  }
 },
 "nbformat": 4,
 "nbformat_minor": 2
}
